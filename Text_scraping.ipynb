{
  "cells": [
    {
      "cell_type": "markdown",
      "metadata": {
        "id": "view-in-github",
        "colab_type": "text"
      },
      "source": [
        "<a href=\"https://colab.research.google.com/github/VikramVinc/Collatz_Conjecture/blob/main/Text_scraping.ipynb\" target=\"_parent\"><img src=\"https://colab.research.google.com/assets/colab-badge.svg\" alt=\"Open In Colab\"/></a>"
      ]
    },
    {
      "cell_type": "code",
      "execution_count": null,
      "metadata": {
        "id": "rXbzMexfKMIn"
      },
      "outputs": [],
      "source": [
        "from google.colab import files\n",
        "import re"
      ]
    },
    {
      "cell_type": "code",
      "execution_count": null,
      "metadata": {
        "colab": {
          "base_uri": "https://localhost:8080/",
          "height": 110
        },
        "id": "iMvrmafBL1po",
        "outputId": "d04480d1-4b00-40e9-8e29-e7f81895c27c"
      },
      "outputs": [
        {
          "data": {
            "text/html": [
              "\n",
              "     <input type=\"file\" id=\"files-b3d44529-1108-4c8d-9a27-77f6cc42ab02\" name=\"files[]\" multiple disabled\n",
              "        style=\"border:none\" />\n",
              "     <output id=\"result-b3d44529-1108-4c8d-9a27-77f6cc42ab02\">\n",
              "      Upload widget is only available when the cell has been executed in the\n",
              "      current browser session. Please rerun this cell to enable.\n",
              "      </output>\n",
              "      <script>// Copyright 2017 Google LLC\n",
              "//\n",
              "// Licensed under the Apache License, Version 2.0 (the \"License\");\n",
              "// you may not use this file except in compliance with the License.\n",
              "// You may obtain a copy of the License at\n",
              "//\n",
              "//      http://www.apache.org/licenses/LICENSE-2.0\n",
              "//\n",
              "// Unless required by applicable law or agreed to in writing, software\n",
              "// distributed under the License is distributed on an \"AS IS\" BASIS,\n",
              "// WITHOUT WARRANTIES OR CONDITIONS OF ANY KIND, either express or implied.\n",
              "// See the License for the specific language governing permissions and\n",
              "// limitations under the License.\n",
              "\n",
              "/**\n",
              " * @fileoverview Helpers for google.colab Python module.\n",
              " */\n",
              "(function(scope) {\n",
              "function span(text, styleAttributes = {}) {\n",
              "  const element = document.createElement('span');\n",
              "  element.textContent = text;\n",
              "  for (const key of Object.keys(styleAttributes)) {\n",
              "    element.style[key] = styleAttributes[key];\n",
              "  }\n",
              "  return element;\n",
              "}\n",
              "\n",
              "// Max number of bytes which will be uploaded at a time.\n",
              "const MAX_PAYLOAD_SIZE = 100 * 1024;\n",
              "\n",
              "function _uploadFiles(inputId, outputId) {\n",
              "  const steps = uploadFilesStep(inputId, outputId);\n",
              "  const outputElement = document.getElementById(outputId);\n",
              "  // Cache steps on the outputElement to make it available for the next call\n",
              "  // to uploadFilesContinue from Python.\n",
              "  outputElement.steps = steps;\n",
              "\n",
              "  return _uploadFilesContinue(outputId);\n",
              "}\n",
              "\n",
              "// This is roughly an async generator (not supported in the browser yet),\n",
              "// where there are multiple asynchronous steps and the Python side is going\n",
              "// to poll for completion of each step.\n",
              "// This uses a Promise to block the python side on completion of each step,\n",
              "// then passes the result of the previous step as the input to the next step.\n",
              "function _uploadFilesContinue(outputId) {\n",
              "  const outputElement = document.getElementById(outputId);\n",
              "  const steps = outputElement.steps;\n",
              "\n",
              "  const next = steps.next(outputElement.lastPromiseValue);\n",
              "  return Promise.resolve(next.value.promise).then((value) => {\n",
              "    // Cache the last promise value to make it available to the next\n",
              "    // step of the generator.\n",
              "    outputElement.lastPromiseValue = value;\n",
              "    return next.value.response;\n",
              "  });\n",
              "}\n",
              "\n",
              "/**\n",
              " * Generator function which is called between each async step of the upload\n",
              " * process.\n",
              " * @param {string} inputId Element ID of the input file picker element.\n",
              " * @param {string} outputId Element ID of the output display.\n",
              " * @return {!Iterable<!Object>} Iterable of next steps.\n",
              " */\n",
              "function* uploadFilesStep(inputId, outputId) {\n",
              "  const inputElement = document.getElementById(inputId);\n",
              "  inputElement.disabled = false;\n",
              "\n",
              "  const outputElement = document.getElementById(outputId);\n",
              "  outputElement.innerHTML = '';\n",
              "\n",
              "  const pickedPromise = new Promise((resolve) => {\n",
              "    inputElement.addEventListener('change', (e) => {\n",
              "      resolve(e.target.files);\n",
              "    });\n",
              "  });\n",
              "\n",
              "  const cancel = document.createElement('button');\n",
              "  inputElement.parentElement.appendChild(cancel);\n",
              "  cancel.textContent = 'Cancel upload';\n",
              "  const cancelPromise = new Promise((resolve) => {\n",
              "    cancel.onclick = () => {\n",
              "      resolve(null);\n",
              "    };\n",
              "  });\n",
              "\n",
              "  // Wait for the user to pick the files.\n",
              "  const files = yield {\n",
              "    promise: Promise.race([pickedPromise, cancelPromise]),\n",
              "    response: {\n",
              "      action: 'starting',\n",
              "    }\n",
              "  };\n",
              "\n",
              "  cancel.remove();\n",
              "\n",
              "  // Disable the input element since further picks are not allowed.\n",
              "  inputElement.disabled = true;\n",
              "\n",
              "  if (!files) {\n",
              "    return {\n",
              "      response: {\n",
              "        action: 'complete',\n",
              "      }\n",
              "    };\n",
              "  }\n",
              "\n",
              "  for (const file of files) {\n",
              "    const li = document.createElement('li');\n",
              "    li.append(span(file.name, {fontWeight: 'bold'}));\n",
              "    li.append(span(\n",
              "        `(${file.type || 'n/a'}) - ${file.size} bytes, ` +\n",
              "        `last modified: ${\n",
              "            file.lastModifiedDate ? file.lastModifiedDate.toLocaleDateString() :\n",
              "                                    'n/a'} - `));\n",
              "    const percent = span('0% done');\n",
              "    li.appendChild(percent);\n",
              "\n",
              "    outputElement.appendChild(li);\n",
              "\n",
              "    const fileDataPromise = new Promise((resolve) => {\n",
              "      const reader = new FileReader();\n",
              "      reader.onload = (e) => {\n",
              "        resolve(e.target.result);\n",
              "      };\n",
              "      reader.readAsArrayBuffer(file);\n",
              "    });\n",
              "    // Wait for the data to be ready.\n",
              "    let fileData = yield {\n",
              "      promise: fileDataPromise,\n",
              "      response: {\n",
              "        action: 'continue',\n",
              "      }\n",
              "    };\n",
              "\n",
              "    // Use a chunked sending to avoid message size limits. See b/62115660.\n",
              "    let position = 0;\n",
              "    do {\n",
              "      const length = Math.min(fileData.byteLength - position, MAX_PAYLOAD_SIZE);\n",
              "      const chunk = new Uint8Array(fileData, position, length);\n",
              "      position += length;\n",
              "\n",
              "      const base64 = btoa(String.fromCharCode.apply(null, chunk));\n",
              "      yield {\n",
              "        response: {\n",
              "          action: 'append',\n",
              "          file: file.name,\n",
              "          data: base64,\n",
              "        },\n",
              "      };\n",
              "\n",
              "      let percentDone = fileData.byteLength === 0 ?\n",
              "          100 :\n",
              "          Math.round((position / fileData.byteLength) * 100);\n",
              "      percent.textContent = `${percentDone}% done`;\n",
              "\n",
              "    } while (position < fileData.byteLength);\n",
              "  }\n",
              "\n",
              "  // All done.\n",
              "  yield {\n",
              "    response: {\n",
              "      action: 'complete',\n",
              "    }\n",
              "  };\n",
              "}\n",
              "\n",
              "scope.google = scope.google || {};\n",
              "scope.google.colab = scope.google.colab || {};\n",
              "scope.google.colab._files = {\n",
              "  _uploadFiles,\n",
              "  _uploadFilesContinue,\n",
              "};\n",
              "})(self);\n",
              "</script> "
            ],
            "text/plain": [
              "<IPython.core.display.HTML object>"
            ]
          },
          "metadata": {},
          "output_type": "display_data"
        },
        {
          "name": "stdout",
          "output_type": "stream",
          "text": [
            "Saving captions_text.vtt to captions_text.vtt\n"
          ]
        }
      ],
      "source": [
        "Fil = files.upload()"
      ]
    },
    {
      "cell_type": "code",
      "execution_count": null,
      "metadata": {
        "id": "7vkWelSBMonV"
      },
      "outputs": [],
      "source": [
        "key = list(Fil.keys()) \n",
        "text = str(Fil[key[0]])"
      ]
    },
    {
      "cell_type": "code",
      "execution_count": null,
      "metadata": {
        "id": "Fr7_vgy9Ofqy"
      },
      "outputs": [],
      "source": [
        "\n",
        "'\\\\n\\\\n\\d\\\\n\\d\\d:\\d\\d.\\d\\d\\d --> \\d\\d:\\d\\d.\\d\\d\\d\\\\n'\n",
        "Pattern2rep = r'\\\\n\\\\n\\d{1,3}\\\\n\\d\\d:\\d\\d.\\d\\d\\d --> \\d\\d:\\d\\d.\\d\\d\\d\\\\n'\n",
        "regx_timestamp = re.compile(Pattern2rep)\n",
        "New_text = regx_timestamp.sub(' ', text)\n",
        "Niemann = New_text[9:-1]"
      ]
    },
    {
      "cell_type": "code",
      "execution_count": null,
      "metadata": {
        "id": "cz4Cg0utVa9W"
      },
      "outputs": [],
      "source": [
        "Word_list = Niemann.split()\n",
        "for wordi in range(len(Word_list)):\n",
        "    if len(Word_list[wordi]) == 4 and Word_list[wordi][-1] != '.':\n",
        "        Word_list[wordi] = Word_list[wordi][0] + '***'"
      ]
    },
    {
      "cell_type": "code",
      "execution_count": null,
      "metadata": {
        "colab": {
          "background_save": true,
          "base_uri": "https://localhost:8080/",
          "height": 504
        },
        "id": "LAR5eapYcI8e",
        "outputId": "cacf91eb-4eaf-4640-b479-da1b287f655a"
      },
      "outputs": [
        {
          "data": {
            "application/vnd.google.colaboratory.intrinsic+json": {
              "type": "string"
            },
            "text/plain": [
              "\"I'm now going to g*** you two m*** example problems of computing. eigendecomposition of matrices by hand. Obviously t*** is on the computer but I encourage you to do these problems by h*** and they're not d*** in Matlab. So I guess that's w*** it means by hand. So let's get started. H*** is a two by two matrix and you should pause the video go through f*** the eigenvalues and the eigenvectors of t*** matrix so the way we start is by shifting the matrix by Lambda so subtracting lambda f*** the diagonal elements setting the determinant equal to z*** and t*** proceeding to compute the determinant which is a*** called the characteristic equation of t*** matrix. So t*** works out to be three minus lambda times six minus lambda minus f*** equals z*** and t*** expanding these two terms multiplying out these two terms and t*** collecting the l*** terms gives us lambda squared minus n*** lambda p*** fourteen equals z*** and t*** t*** expression h*** can be factored i*** lambda minus seven and Lambda minus two and now i*** pretty e*** to see t*** the two lambdas t*** w*** solve t*** equation t*** solve t*** equation. In other words the two eigenvalues of t*** matrix are p*** 7 and p*** two. So t*** was s*** one we found the eigenvalues of t*** matrix and now we go through for e*** of these eigenvalues shift the matrix by t*** amount by t*** value and t*** figure out w*** is a vector in the shifted matrices n*** space. OK so let's start w*** 2. So t*** gives us the matrix 1 1 4 4. And now we w*** to f*** the missing vector h*** and you've probably guessed it already it is 1 minus 1. And of course you k*** t*** a*** acceptable would be minus 1 1 or minus quadrillion p*** quadrillion. T*** vector simply identifies a subspace for the n*** space of t*** shifted matrix in any vector that's in t*** n*** space is perfectly f*** as an eigenvector. Now t*** s*** the b*** choice for an eigenvector would be a vector t*** has a n*** of 1 a magnitude of 1. And the second b*** choice would be integer values t*** are e*** to interpret and compact to write l*** this. All right. So t*** was for two. Now we go to the second eigenvalues which was seven and t*** gives us t*** matrix minus 4 1 and 4 minus 1. And h*** a vector t*** could w*** as an eigenvector as a basis for the n*** space of t*** shifted matrix is the numbers 1 4. So h*** is the big picture overview we h*** t*** matrix and h*** you see the eigenvalue and its corresponding eigenvector and the other eigenvalue and the other corresponding eigenvector. Now y*** results w*** be correct. If you h*** the correct pairing of eigenvalue and any multiple any scaled version of t*** vector; it doesn't matter if you c*** t*** lambda one and t*** V one that's f*** because there's no intrinsic ordering. W*** matters is t*** you h*** the pairing correct. All right. So t*** was the two by two case. Now let's go for a three by three case. T*** one is a little bit m*** challenging and I h*** to admit. So I first c*** up w*** these numbers and t*** I started computing the eigendecomposition. Now I h*** to admit t*** I got stuck on one of the eigenvectors. I couldn't quite figure it out on my own. So I u*** Matlab to compute t*** eigenvector. So w*** I encourage you to do is f*** all three eigenvalues by h*** and I think it w*** be pretty obvious w*** you start working through it which is the difficult eigenvalue. So t*** w*** you should do by h*** is f*** two of the eigenvectors t*** you can get basically j*** by k*** of eyeballing and making s*** educated guesses. And t*** the third eigenvector you can use a computer to solve or you can j*** w*** and watch me c*** up w*** a solution. All right. So again we start by shifting t*** matrix by minus lambda setting the determinant equal to z*** and t*** proceeding to compute the determinant of t*** equation and altogether t*** gives us the characteristic equation of t*** matrix. Now t*** is a little bit longer. I*** a little bit trickier the arithmetic g*** a little bit hairy in particular you end up w*** t*** minus lambda cubed t*** as w*** as a couple of multiple terms w*** Lambda and Lambda squared. Now o*** you collect all of these l*** terms you'll end up w*** an expression t*** looks l*** this. So it should be minus lambda cubed p*** 10 times lambda squared p*** eleven lambda equals z*** Now something interesting has happened h*** all of these terms h*** a lambda attached to t*** which means t*** we can t*** a lambda out of e*** of these terms and rewrite t*** expression as minus lambda times. All of t*** stuff and immediately t*** tells us t*** lambda equals z*** is a solution. So w*** you set t*** lambda to be z*** it doesn't actually matter what's inside t*** parenthetical statement that's immediately going to set to m*** t*** equation true. T*** means t*** one of the eigenvalues of t*** matrix is z*** and I'm going to h*** an entire video j*** about t*** phenomenon a little bit later in t*** section. But essentially w*** an eigenvector is an eigenvalue is zero. It means t*** the matrix is singular and t*** you can actually see by looking at t*** matrix and you see t*** column 1 p*** column 2 equals column 3 so whenever you h*** a singular matrix at least one eigenvalues value is going to be equal to zero. And in f*** the number of eigenvalues t*** are equal to z*** tells you about the r*** of t*** matrix. M*** on t*** in the later video. Now o*** you've gotten to t*** s*** you can further factor t*** equation and you end up w*** the result t*** lambda equals z*** lambda equals minus 1 and Lambda equals eleven. So you can probably guess t*** t*** is going to be the tricky I can value to compute the corresponding I can vector of and t*** is the one t*** I got a little bit stuck with. And so I u*** Matlab as a crutch. I cheated a little bit. OK so but let's go through all of these. So we start w*** z*** and now t*** is k*** of a funny thing because we are shifting the matrix by z*** which actually means we're not changing the matrix at all. And t*** means t*** t*** matrix A already has a non-trivial n*** space e*** without doing any shifting. So t*** problem actually boils d*** to finding a vector in the n*** space or a basis for the n*** space. E*** without doing any shifting so based on w*** I j*** t*** you about how do I set up t*** matrix t*** column one p*** column two equals column three a basis for the n*** space is 1 one minus 1. So you can try for e*** of these r*** the first column p*** the second column minus the third column equals z*** all right. So now let's m*** on. So now we shift t*** matrix by eleven and t*** is basically where I got stuck and switch to matlab. So it turns out t*** eigenvector is nineteen forty one and thirty six. So if you figured out t*** I can vector on y*** own without using a computer t*** g*** for you you are a better or at least m*** patient mathematician t*** I am. And t*** we get to the third eigenvalue which was minus one. So now t*** becomes p*** one. And h*** is t*** shifted matrix and t*** one you should be a*** to solve on y*** own. In f*** i*** e*** easier t*** it looks. And if you n*** a h*** before I s*** the answer t*** the h*** is j*** consider t*** t*** third column is actually pretty useless if you get rid of t*** third column it becomes really e*** to f*** the eigenvector in t*** shifted matrices n*** space. So in f*** i*** one minus one and t*** z*** you j*** set the third element to be zero. So t*** leads us to the big picture overview of the eigendecomposition of t*** three by three singular matrix r*** 2 matrix we h*** eigenvalues 0 minus 11 and minus 1. And these are the corresponding eigenvectors. And notice I*** written t*** as row vectors and t*** transpose. So these are still column vectors we generally always think about eigenvectors as column vectors and you w*** learn m*** about why t*** is the c*** in the video on diagonalization, which is coming up soon.\""
            ]
          },
          "execution_count": 103,
          "metadata": {},
          "output_type": "execute_result"
        }
      ],
      "source": [
        "' '.join(Word_list)"
      ]
    },
    {
      "cell_type": "code",
      "execution_count": null,
      "metadata": {
        "id": "pH1ke-vNchPZ"
      },
      "outputs": [],
      "source": [
        "with open('clean_trans.txt')"
      ]
    },
    {
      "cell_type": "code",
      "source": [],
      "metadata": {
        "id": "Z14ZteqYfch2"
      },
      "execution_count": null,
      "outputs": []
    }
  ],
  "metadata": {
    "colab": {
      "provenance": [],
      "toc_visible": true,
      "authorship_tag": "ABX9TyOa5pxhJopst2aGG8t6EeUk",
      "include_colab_link": true
    },
    "kernelspec": {
      "display_name": "Python 3",
      "name": "python3"
    },
    "language_info": {
      "name": "python"
    }
  },
  "nbformat": 4,
  "nbformat_minor": 0
}