{
  "nbformat": 4,
  "nbformat_minor": 0,
  "metadata": {
    "colab": {
      "provenance": [],
      "authorship_tag": "ABX9TyMypvAEA5A6dgUg+ZbUd9ni",
      "include_colab_link": true
    },
    "kernelspec": {
      "name": "python3",
      "display_name": "Python 3"
    },
    "language_info": {
      "name": "python"
    }
  },
  "cells": [
    {
      "cell_type": "markdown",
      "metadata": {
        "id": "view-in-github",
        "colab_type": "text"
      },
      "source": [
        "<a href=\"https://colab.research.google.com/github/VikramVinc/Scientific_Python/blob/main/Password.ipynb\" target=\"_parent\"><img src=\"https://colab.research.google.com/assets/colab-badge.svg\" alt=\"Open In Colab\"/></a>"
      ]
    },
    {
      "cell_type": "code",
      "execution_count": null,
      "metadata": {
        "colab": {
          "base_uri": "https://localhost:8080/"
        },
        "id": "_49l4P-pgIN8",
        "outputId": "43f02000-d1af-4049-997e-78c9522fe91a"
      },
      "outputs": [
        {
          "output_type": "stream",
          "name": "stdout",
          "text": [
            "Encrypt or Decrypt?: Decrypt\n",
            "Enter a Message: ⩉⩜⩞⩥⩔⩠\n",
            "Vikram\n"
          ]
        }
      ],
      "source": [
        "my_rand = #mystery                                         \n",
        "usr = input('Encrypt or Decrypt?: ')\n",
        "enmsg = [] \n",
        "demsg = [] \n",
        "def enc(msg):\n",
        "   for letter in msg:\n",
        "       enletter = chr(ord(letter)+my_rand) \n",
        "       enmsg.append(enletter) \n",
        "def decr(msg): \n",
        "    for letter in msg:\n",
        "       deletter = chr(ord(letter)-my_rand)\n",
        "       demsg.append(deletter) \n",
        "\n",
        "if usr == 'Encrypt': \n",
        "    msg = input(\"Enter the Message: \")\n",
        "    enc(msg) \n",
        "    print(''.join(enmsg)) \n",
        "elif usr == 'Decrypt': \n",
        "    msg = input(\"Enter a Message: \") \n",
        "    decr(msg)\n",
        "    print(''.join(demsg))"
      ]
    }
  ]
}